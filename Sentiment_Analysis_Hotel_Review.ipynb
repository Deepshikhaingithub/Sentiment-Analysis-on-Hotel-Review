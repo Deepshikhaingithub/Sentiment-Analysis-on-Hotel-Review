{
 "cells": [
  {
   "cell_type": "markdown",
   "id": "27697fde-1ae6-48cb-8762-15209c3c45bf",
   "metadata": {},
   "source": [
    "### Sentiment Analysis on Hotel Reviews"
   ]
  },
  {
   "cell_type": "markdown",
   "id": "09eb2138-9393-43d2-a103-8bdaa43191a1",
   "metadata": {},
   "source": [
    "#### Objective:\n",
    "The goal of this project is to perform sentiment analysis on hotel reviews using natural language processing (NLP) techniques. The dataset comprises user reviews with associated sentiment labels (happy or not happy). The sentiment analysis aims to determine the sentiment expressed in each review."
   ]
  },
  {
   "cell_type": "markdown",
   "id": "f2fe0bf9-6a83-4a15-bca3-fe7a59e14cdb",
   "metadata": {},
   "source": [
    "##### Dataset Description:\n",
    "The dataset used in this sentiment analysis project focuses on hotel reviews, encompassing various aspects of user experiences. Each entry in the dataset consists of specific attributes, including User_ID, Description (textual review), Browser_Used, Device_Used, and Is_Response (sentiment label - 'happy' or 'not happy')."
   ]
  },
  {
   "cell_type": "code",
   "execution_count": 1,
   "id": "dc3824e8-0f8c-41f2-bdf6-56488a78fbdb",
   "metadata": {},
   "outputs": [],
   "source": [
    "import numpy as np\n",
    "import pandas as pd"
   ]
  },
  {
   "cell_type": "code",
   "execution_count": 2,
   "id": "7e4e0f65-c13b-4b7f-9233-845fca984a0c",
   "metadata": {},
   "outputs": [],
   "source": [
    "# Lets import the dataset\n",
    "df = pd.read_csv('HotelReview.csv', encoding='latin-1')"
   ]
  },
  {
   "cell_type": "code",
   "execution_count": 3,
   "id": "56d5f674-c4da-4f12-84e5-7c988f8eb754",
   "metadata": {},
   "outputs": [
    {
     "data": {
      "text/html": [
       "<div>\n",
       "<style scoped>\n",
       "    .dataframe tbody tr th:only-of-type {\n",
       "        vertical-align: middle;\n",
       "    }\n",
       "\n",
       "    .dataframe tbody tr th {\n",
       "        vertical-align: top;\n",
       "    }\n",
       "\n",
       "    .dataframe thead th {\n",
       "        text-align: right;\n",
       "    }\n",
       "</style>\n",
       "<table border=\"1\" class=\"dataframe\">\n",
       "  <thead>\n",
       "    <tr style=\"text-align: right;\">\n",
       "      <th></th>\n",
       "      <th>User_ID</th>\n",
       "      <th>Description</th>\n",
       "      <th>Browser_Used</th>\n",
       "      <th>Device_Used</th>\n",
       "      <th>Is_Response</th>\n",
       "    </tr>\n",
       "  </thead>\n",
       "  <tbody>\n",
       "    <tr>\n",
       "      <th>0</th>\n",
       "      <td>id10326</td>\n",
       "      <td>The room was kind of clean but had a VERY stro...</td>\n",
       "      <td>Edge</td>\n",
       "      <td>Mobile</td>\n",
       "      <td>not happy</td>\n",
       "    </tr>\n",
       "    <tr>\n",
       "      <th>1</th>\n",
       "      <td>id10327</td>\n",
       "      <td>I stayed at the Crown Plaza April -- - April -...</td>\n",
       "      <td>Internet Explorer</td>\n",
       "      <td>Mobile</td>\n",
       "      <td>not happy</td>\n",
       "    </tr>\n",
       "    <tr>\n",
       "      <th>2</th>\n",
       "      <td>id10328</td>\n",
       "      <td>I booked this hotel through Hotwire at the low...</td>\n",
       "      <td>Mozilla</td>\n",
       "      <td>Tablet</td>\n",
       "      <td>not happy</td>\n",
       "    </tr>\n",
       "    <tr>\n",
       "      <th>3</th>\n",
       "      <td>id10329</td>\n",
       "      <td>Stayed here with husband and sons on the way t...</td>\n",
       "      <td>InternetExplorer</td>\n",
       "      <td>Desktop</td>\n",
       "      <td>happy</td>\n",
       "    </tr>\n",
       "    <tr>\n",
       "      <th>4</th>\n",
       "      <td>id10330</td>\n",
       "      <td>My girlfriends and I stayed here to celebrate ...</td>\n",
       "      <td>Edge</td>\n",
       "      <td>Tablet</td>\n",
       "      <td>not happy</td>\n",
       "    </tr>\n",
       "  </tbody>\n",
       "</table>\n",
       "</div>"
      ],
      "text/plain": [
       "   User_ID                                        Description  \\\n",
       "0  id10326  The room was kind of clean but had a VERY stro...   \n",
       "1  id10327  I stayed at the Crown Plaza April -- - April -...   \n",
       "2  id10328  I booked this hotel through Hotwire at the low...   \n",
       "3  id10329  Stayed here with husband and sons on the way t...   \n",
       "4  id10330  My girlfriends and I stayed here to celebrate ...   \n",
       "\n",
       "        Browser_Used Device_Used Is_Response  \n",
       "0               Edge      Mobile   not happy  \n",
       "1  Internet Explorer      Mobile   not happy  \n",
       "2            Mozilla      Tablet   not happy  \n",
       "3   InternetExplorer     Desktop       happy  \n",
       "4               Edge      Tablet   not happy  "
      ]
     },
     "execution_count": 3,
     "metadata": {},
     "output_type": "execute_result"
    }
   ],
   "source": [
    "df.head()"
   ]
  },
  {
   "cell_type": "code",
   "execution_count": 4,
   "id": "6f159800-fe76-4532-8080-7587989206c3",
   "metadata": {},
   "outputs": [],
   "source": [
    "# Lets keep only the relevant columns\n",
    "df=df.drop(['User_ID','Browser_Used','Device_Used'],axis=1)"
   ]
  },
  {
   "cell_type": "code",
   "execution_count": 5,
   "id": "066619b8-c5de-444d-a93c-68cc3a9f1334",
   "metadata": {},
   "outputs": [
    {
     "data": {
      "text/html": [
       "<div>\n",
       "<style scoped>\n",
       "    .dataframe tbody tr th:only-of-type {\n",
       "        vertical-align: middle;\n",
       "    }\n",
       "\n",
       "    .dataframe tbody tr th {\n",
       "        vertical-align: top;\n",
       "    }\n",
       "\n",
       "    .dataframe thead th {\n",
       "        text-align: right;\n",
       "    }\n",
       "</style>\n",
       "<table border=\"1\" class=\"dataframe\">\n",
       "  <thead>\n",
       "    <tr style=\"text-align: right;\">\n",
       "      <th></th>\n",
       "      <th>Description</th>\n",
       "      <th>Is_Response</th>\n",
       "    </tr>\n",
       "  </thead>\n",
       "  <tbody>\n",
       "    <tr>\n",
       "      <th>0</th>\n",
       "      <td>The room was kind of clean but had a VERY stro...</td>\n",
       "      <td>not happy</td>\n",
       "    </tr>\n",
       "    <tr>\n",
       "      <th>1</th>\n",
       "      <td>I stayed at the Crown Plaza April -- - April -...</td>\n",
       "      <td>not happy</td>\n",
       "    </tr>\n",
       "    <tr>\n",
       "      <th>2</th>\n",
       "      <td>I booked this hotel through Hotwire at the low...</td>\n",
       "      <td>not happy</td>\n",
       "    </tr>\n",
       "    <tr>\n",
       "      <th>3</th>\n",
       "      <td>Stayed here with husband and sons on the way t...</td>\n",
       "      <td>happy</td>\n",
       "    </tr>\n",
       "    <tr>\n",
       "      <th>4</th>\n",
       "      <td>My girlfriends and I stayed here to celebrate ...</td>\n",
       "      <td>not happy</td>\n",
       "    </tr>\n",
       "    <tr>\n",
       "      <th>...</th>\n",
       "      <td>...</td>\n",
       "      <td>...</td>\n",
       "    </tr>\n",
       "    <tr>\n",
       "      <th>38927</th>\n",
       "      <td>We arrived late at night and walked in to a ch...</td>\n",
       "      <td>happy</td>\n",
       "    </tr>\n",
       "    <tr>\n",
       "      <th>38928</th>\n",
       "      <td>The only positive impression is location and p...</td>\n",
       "      <td>not happy</td>\n",
       "    </tr>\n",
       "    <tr>\n",
       "      <th>38929</th>\n",
       "      <td>Traveling with friends for shopping and a show...</td>\n",
       "      <td>not happy</td>\n",
       "    </tr>\n",
       "    <tr>\n",
       "      <th>38930</th>\n",
       "      <td>The experience was just ok. We paid extra for ...</td>\n",
       "      <td>not happy</td>\n",
       "    </tr>\n",
       "    <tr>\n",
       "      <th>38931</th>\n",
       "      <td>The Westin is a wonderfully restored grande da...</td>\n",
       "      <td>happy</td>\n",
       "    </tr>\n",
       "  </tbody>\n",
       "</table>\n",
       "<p>38932 rows × 2 columns</p>\n",
       "</div>"
      ],
      "text/plain": [
       "                                             Description Is_Response\n",
       "0      The room was kind of clean but had a VERY stro...   not happy\n",
       "1      I stayed at the Crown Plaza April -- - April -...   not happy\n",
       "2      I booked this hotel through Hotwire at the low...   not happy\n",
       "3      Stayed here with husband and sons on the way t...       happy\n",
       "4      My girlfriends and I stayed here to celebrate ...   not happy\n",
       "...                                                  ...         ...\n",
       "38927  We arrived late at night and walked in to a ch...       happy\n",
       "38928  The only positive impression is location and p...   not happy\n",
       "38929  Traveling with friends for shopping and a show...   not happy\n",
       "38930  The experience was just ok. We paid extra for ...   not happy\n",
       "38931  The Westin is a wonderfully restored grande da...       happy\n",
       "\n",
       "[38932 rows x 2 columns]"
      ]
     },
     "execution_count": 5,
     "metadata": {},
     "output_type": "execute_result"
    }
   ],
   "source": [
    "df"
   ]
  },
  {
   "cell_type": "code",
   "execution_count": 6,
   "id": "b32f5b5a-7df0-4503-8c61-6f51d424d92e",
   "metadata": {},
   "outputs": [],
   "source": [
    "# Checking for any missing data"
   ]
  },
  {
   "cell_type": "code",
   "execution_count": 7,
   "id": "38874d9f-574a-453c-96ed-6bfa119e9aca",
   "metadata": {},
   "outputs": [
    {
     "data": {
      "text/plain": [
       "Description    0\n",
       "Is_Response    0\n",
       "dtype: int64"
      ]
     },
     "execution_count": 7,
     "metadata": {},
     "output_type": "execute_result"
    }
   ],
   "source": [
    "df.isna().sum()"
   ]
  },
  {
   "cell_type": "code",
   "execution_count": 8,
   "id": "9c51690f-ded0-4c55-abc3-a8a4c0875714",
   "metadata": {},
   "outputs": [
    {
     "data": {
      "text/plain": [
       "0"
      ]
     },
     "execution_count": 8,
     "metadata": {},
     "output_type": "execute_result"
    }
   ],
   "source": [
    "duplicates=df.duplicated().sum()\n",
    "duplicates"
   ]
  },
  {
   "cell_type": "code",
   "execution_count": 9,
   "id": "3ed603de-77f7-4ffd-8d20-20610d941340",
   "metadata": {},
   "outputs": [
    {
     "name": "stdout",
     "output_type": "stream",
     "text": [
      "<class 'pandas.core.frame.DataFrame'>\n",
      "RangeIndex: 38932 entries, 0 to 38931\n",
      "Data columns (total 2 columns):\n",
      " #   Column       Non-Null Count  Dtype \n",
      "---  ------       --------------  ----- \n",
      " 0   Description  38932 non-null  object\n",
      " 1   Is_Response  38932 non-null  object\n",
      "dtypes: object(2)\n",
      "memory usage: 608.4+ KB\n"
     ]
    }
   ],
   "source": [
    "df.info()"
   ]
  },
  {
   "cell_type": "code",
   "execution_count": 10,
   "id": "00dc2e91-2549-42d1-a67c-c0149bf88a90",
   "metadata": {},
   "outputs": [],
   "source": [
    "# Now lets perform all the preprocessing steps"
   ]
  },
  {
   "cell_type": "code",
   "execution_count": 11,
   "id": "ab1b9779-df44-4b40-9972-0a6e3add4d96",
   "metadata": {},
   "outputs": [],
   "source": [
    "# As a first step in preprocessing, lets convert the reviews to lower case"
   ]
  },
  {
   "cell_type": "code",
   "execution_count": 12,
   "id": "b67ddbb1-cb43-466a-a3fa-bb67bf67dc53",
   "metadata": {},
   "outputs": [
    {
     "data": {
      "text/html": [
       "<div>\n",
       "<style scoped>\n",
       "    .dataframe tbody tr th:only-of-type {\n",
       "        vertical-align: middle;\n",
       "    }\n",
       "\n",
       "    .dataframe tbody tr th {\n",
       "        vertical-align: top;\n",
       "    }\n",
       "\n",
       "    .dataframe thead th {\n",
       "        text-align: right;\n",
       "    }\n",
       "</style>\n",
       "<table border=\"1\" class=\"dataframe\">\n",
       "  <thead>\n",
       "    <tr style=\"text-align: right;\">\n",
       "      <th></th>\n",
       "      <th>Description</th>\n",
       "      <th>Is_Response</th>\n",
       "    </tr>\n",
       "  </thead>\n",
       "  <tbody>\n",
       "    <tr>\n",
       "      <th>0</th>\n",
       "      <td>the room was kind of clean but had a very stro...</td>\n",
       "      <td>not happy</td>\n",
       "    </tr>\n",
       "    <tr>\n",
       "      <th>1</th>\n",
       "      <td>i stayed at the crown plaza april -- - april -...</td>\n",
       "      <td>not happy</td>\n",
       "    </tr>\n",
       "    <tr>\n",
       "      <th>2</th>\n",
       "      <td>i booked this hotel through hotwire at the low...</td>\n",
       "      <td>not happy</td>\n",
       "    </tr>\n",
       "    <tr>\n",
       "      <th>3</th>\n",
       "      <td>stayed here with husband and sons on the way t...</td>\n",
       "      <td>happy</td>\n",
       "    </tr>\n",
       "    <tr>\n",
       "      <th>4</th>\n",
       "      <td>my girlfriends and i stayed here to celebrate ...</td>\n",
       "      <td>not happy</td>\n",
       "    </tr>\n",
       "    <tr>\n",
       "      <th>...</th>\n",
       "      <td>...</td>\n",
       "      <td>...</td>\n",
       "    </tr>\n",
       "    <tr>\n",
       "      <th>38927</th>\n",
       "      <td>we arrived late at night and walked in to a ch...</td>\n",
       "      <td>happy</td>\n",
       "    </tr>\n",
       "    <tr>\n",
       "      <th>38928</th>\n",
       "      <td>the only positive impression is location and p...</td>\n",
       "      <td>not happy</td>\n",
       "    </tr>\n",
       "    <tr>\n",
       "      <th>38929</th>\n",
       "      <td>traveling with friends for shopping and a show...</td>\n",
       "      <td>not happy</td>\n",
       "    </tr>\n",
       "    <tr>\n",
       "      <th>38930</th>\n",
       "      <td>the experience was just ok. we paid extra for ...</td>\n",
       "      <td>not happy</td>\n",
       "    </tr>\n",
       "    <tr>\n",
       "      <th>38931</th>\n",
       "      <td>the westin is a wonderfully restored grande da...</td>\n",
       "      <td>happy</td>\n",
       "    </tr>\n",
       "  </tbody>\n",
       "</table>\n",
       "<p>38932 rows × 2 columns</p>\n",
       "</div>"
      ],
      "text/plain": [
       "                                             Description Is_Response\n",
       "0      the room was kind of clean but had a very stro...   not happy\n",
       "1      i stayed at the crown plaza april -- - april -...   not happy\n",
       "2      i booked this hotel through hotwire at the low...   not happy\n",
       "3      stayed here with husband and sons on the way t...       happy\n",
       "4      my girlfriends and i stayed here to celebrate ...   not happy\n",
       "...                                                  ...         ...\n",
       "38927  we arrived late at night and walked in to a ch...       happy\n",
       "38928  the only positive impression is location and p...   not happy\n",
       "38929  traveling with friends for shopping and a show...   not happy\n",
       "38930  the experience was just ok. we paid extra for ...   not happy\n",
       "38931  the westin is a wonderfully restored grande da...       happy\n",
       "\n",
       "[38932 rows x 2 columns]"
      ]
     },
     "execution_count": 12,
     "metadata": {},
     "output_type": "execute_result"
    }
   ],
   "source": [
    "df['Description']=df['Description'].str.lower()\n",
    "df"
   ]
  },
  {
   "cell_type": "code",
   "execution_count": 13,
   "id": "a7397036-477c-4296-8fa3-9d22d2f8061b",
   "metadata": {},
   "outputs": [],
   "source": [
    "#Lets remove html tags if any"
   ]
  },
  {
   "cell_type": "code",
   "execution_count": 14,
   "id": "49637bd0-1aaf-4688-a5dd-815722cc7dbf",
   "metadata": {},
   "outputs": [],
   "source": [
    "import re"
   ]
  },
  {
   "cell_type": "code",
   "execution_count": 15,
   "id": "a33ae94a-9199-47ae-9072-4f6b4d1beb96",
   "metadata": {},
   "outputs": [],
   "source": [
    "def remove_html_tags(text):\n",
    "    pattern=re.compile('<.*?>')\n",
    "    return pattern.sub(r'',text)"
   ]
  },
  {
   "cell_type": "code",
   "execution_count": 16,
   "id": "9873d514-1f27-40ff-8e6e-d99d0e028fea",
   "metadata": {},
   "outputs": [],
   "source": [
    "df['Description']=df['Description'].apply(remove_html_tags)"
   ]
  },
  {
   "cell_type": "code",
   "execution_count": 17,
   "id": "2db5453f-51b6-47f2-a5ad-e24475265d39",
   "metadata": {},
   "outputs": [],
   "source": [
    "# Lets remove all the punctuations"
   ]
  },
  {
   "cell_type": "code",
   "execution_count": 18,
   "id": "6675b828-cab8-4cfc-ad7e-ab8e5ff75af5",
   "metadata": {},
   "outputs": [],
   "source": [
    "import string"
   ]
  },
  {
   "cell_type": "code",
   "execution_count": 19,
   "id": "c0cea27e-b34f-4fd3-9828-f0f6fb770fdc",
   "metadata": {},
   "outputs": [
    {
     "data": {
      "text/plain": [
       "'!\"#$%&\\'()*+,-./:;<=>?@[\\\\]^_`{|}~'"
      ]
     },
     "execution_count": 19,
     "metadata": {},
     "output_type": "execute_result"
    }
   ],
   "source": [
    "punctuations=string.punctuation\n",
    "punctuations"
   ]
  },
  {
   "cell_type": "code",
   "execution_count": 20,
   "id": "8c16e742-7fda-4c3f-aa3e-b377e79c0c0a",
   "metadata": {},
   "outputs": [],
   "source": [
    "def remove_punctuation(text):\n",
    "    return text.translate(str.maketrans('','',punctuations))"
   ]
  },
  {
   "cell_type": "code",
   "execution_count": 21,
   "id": "e59b91c1-1e6c-4bf5-beea-76f4baf62890",
   "metadata": {},
   "outputs": [],
   "source": [
    "df['Description']=df['Description'].apply(remove_punctuation)"
   ]
  },
  {
   "cell_type": "code",
   "execution_count": 22,
   "id": "23341613-492d-4221-8e16-8f312ae6dd48",
   "metadata": {},
   "outputs": [
    {
     "data": {
      "text/plain": [
       "'we had  rooms one was very nice and clearly had been updated more recently than the other the other was clean and the bed was comfy but it needed some updating carpet was old and wrinkled for example great location for visiting inner harbor getting to fells point orioles games etc supershuttle from bwi worked great both ways tv remotes in both rooms were terrible but we didnt watch much tv so not a big deal wireless was sketchy on th and th floors but again didnt need it much  we were on vacation so it didnt really matter breakfast was good each morning would stay again if in town'"
      ]
     },
     "execution_count": 22,
     "metadata": {},
     "output_type": "execute_result"
    }
   ],
   "source": [
    "df['Description'][5]"
   ]
  },
  {
   "cell_type": "code",
   "execution_count": 23,
   "id": "cbefa49b-82df-4d2d-98cc-f9f70602b8d5",
   "metadata": {},
   "outputs": [],
   "source": [
    "# From above it can be seen that all the punctuations are removed."
   ]
  },
  {
   "cell_type": "code",
   "execution_count": 24,
   "id": "a37cb052-cd6a-4eae-82f9-7874ea49180a",
   "metadata": {},
   "outputs": [],
   "source": [
    "# Now lets remove all the stop words as those words donot have much contribution on the target response."
   ]
  },
  {
   "cell_type": "code",
   "execution_count": 25,
   "id": "c3675c4a-ac0d-4458-8c58-d532305b470b",
   "metadata": {},
   "outputs": [],
   "source": [
    "import nltk"
   ]
  },
  {
   "cell_type": "code",
   "execution_count": 26,
   "id": "834c5bec-fec1-49e2-9bb4-c3ada29b23d9",
   "metadata": {},
   "outputs": [],
   "source": [
    "from nltk.corpus import stopwords"
   ]
  },
  {
   "cell_type": "code",
   "execution_count": 27,
   "id": "0824c930-4464-4abd-bda4-017eb406c99d",
   "metadata": {},
   "outputs": [],
   "source": [
    "stop_words=set(stopwords.words('english'))"
   ]
  },
  {
   "cell_type": "code",
   "execution_count": 28,
   "id": "dee533b8-1d88-46ff-889f-280e13899e4b",
   "metadata": {},
   "outputs": [],
   "source": [
    "def remove_stop_words(text):\n",
    "    new_text = []\n",
    "\n",
    "    for word in text.split():\n",
    "        if word not in stop_words:\n",
    "            new_text.append(word)\n",
    "\n",
    "    return \" \".join(new_text)"
   ]
  },
  {
   "cell_type": "code",
   "execution_count": 29,
   "id": "f761273a-fb51-4a3d-92d0-b0336cf01971",
   "metadata": {},
   "outputs": [
    {
     "data": {
      "text/html": [
       "<div>\n",
       "<style scoped>\n",
       "    .dataframe tbody tr th:only-of-type {\n",
       "        vertical-align: middle;\n",
       "    }\n",
       "\n",
       "    .dataframe tbody tr th {\n",
       "        vertical-align: top;\n",
       "    }\n",
       "\n",
       "    .dataframe thead th {\n",
       "        text-align: right;\n",
       "    }\n",
       "</style>\n",
       "<table border=\"1\" class=\"dataframe\">\n",
       "  <thead>\n",
       "    <tr style=\"text-align: right;\">\n",
       "      <th></th>\n",
       "      <th>Description</th>\n",
       "      <th>Is_Response</th>\n",
       "    </tr>\n",
       "  </thead>\n",
       "  <tbody>\n",
       "    <tr>\n",
       "      <th>0</th>\n",
       "      <td>room kind clean strong smell dogs generally av...</td>\n",
       "      <td>not happy</td>\n",
       "    </tr>\n",
       "    <tr>\n",
       "      <th>1</th>\n",
       "      <td>stayed crown plaza april april staff friendly ...</td>\n",
       "      <td>not happy</td>\n",
       "    </tr>\n",
       "    <tr>\n",
       "      <th>2</th>\n",
       "      <td>booked hotel hotwire lowest price could find g...</td>\n",
       "      <td>not happy</td>\n",
       "    </tr>\n",
       "    <tr>\n",
       "      <th>3</th>\n",
       "      <td>stayed husband sons way alaska cruise loved ho...</td>\n",
       "      <td>happy</td>\n",
       "    </tr>\n",
       "    <tr>\n",
       "      <th>4</th>\n",
       "      <td>girlfriends stayed celebrate th birthdays plan...</td>\n",
       "      <td>not happy</td>\n",
       "    </tr>\n",
       "    <tr>\n",
       "      <th>...</th>\n",
       "      <td>...</td>\n",
       "      <td>...</td>\n",
       "    </tr>\n",
       "    <tr>\n",
       "      <th>38927</th>\n",
       "      <td>arrived late night walked checkin area complet...</td>\n",
       "      <td>happy</td>\n",
       "    </tr>\n",
       "    <tr>\n",
       "      <th>38928</th>\n",
       "      <td>positive impression location public parking op...</td>\n",
       "      <td>not happy</td>\n",
       "    </tr>\n",
       "    <tr>\n",
       "      <th>38929</th>\n",
       "      <td>traveling friends shopping show location great...</td>\n",
       "      <td>not happy</td>\n",
       "    </tr>\n",
       "    <tr>\n",
       "      <th>38930</th>\n",
       "      <td>experience ok paid extra view pool got view pa...</td>\n",
       "      <td>not happy</td>\n",
       "    </tr>\n",
       "    <tr>\n",
       "      <th>38931</th>\n",
       "      <td>westin wonderfully restored grande dame hotel ...</td>\n",
       "      <td>happy</td>\n",
       "    </tr>\n",
       "  </tbody>\n",
       "</table>\n",
       "<p>38932 rows × 2 columns</p>\n",
       "</div>"
      ],
      "text/plain": [
       "                                             Description Is_Response\n",
       "0      room kind clean strong smell dogs generally av...   not happy\n",
       "1      stayed crown plaza april april staff friendly ...   not happy\n",
       "2      booked hotel hotwire lowest price could find g...   not happy\n",
       "3      stayed husband sons way alaska cruise loved ho...       happy\n",
       "4      girlfriends stayed celebrate th birthdays plan...   not happy\n",
       "...                                                  ...         ...\n",
       "38927  arrived late night walked checkin area complet...       happy\n",
       "38928  positive impression location public parking op...   not happy\n",
       "38929  traveling friends shopping show location great...   not happy\n",
       "38930  experience ok paid extra view pool got view pa...   not happy\n",
       "38931  westin wonderfully restored grande dame hotel ...       happy\n",
       "\n",
       "[38932 rows x 2 columns]"
      ]
     },
     "execution_count": 29,
     "metadata": {},
     "output_type": "execute_result"
    }
   ],
   "source": [
    "df['Description']=df['Description'].apply(remove_stop_words)\n",
    "df"
   ]
  },
  {
   "cell_type": "code",
   "execution_count": 30,
   "id": "2df385df-70d1-4d88-9fad-269867818939",
   "metadata": {},
   "outputs": [],
   "source": [
    "# Removed all the stopwords"
   ]
  },
  {
   "cell_type": "code",
   "execution_count": 31,
   "id": "b6ed6802-4b39-4334-acff-25b1afeac9b6",
   "metadata": {},
   "outputs": [],
   "source": [
    "# Lets seperate our X and Y before training our model\n",
    "\n",
    "X=df['Description']\n",
    "y=df['Is_Response']"
   ]
  },
  {
   "cell_type": "code",
   "execution_count": 32,
   "id": "10b8ae01-b329-4bed-802e-e083cebd5032",
   "metadata": {},
   "outputs": [
    {
     "data": {
      "text/plain": [
       "0        room kind clean strong smell dogs generally av...\n",
       "1        stayed crown plaza april april staff friendly ...\n",
       "2        booked hotel hotwire lowest price could find g...\n",
       "3        stayed husband sons way alaska cruise loved ho...\n",
       "4        girlfriends stayed celebrate th birthdays plan...\n",
       "                               ...                        \n",
       "38927    arrived late night walked checkin area complet...\n",
       "38928    positive impression location public parking op...\n",
       "38929    traveling friends shopping show location great...\n",
       "38930    experience ok paid extra view pool got view pa...\n",
       "38931    westin wonderfully restored grande dame hotel ...\n",
       "Name: Description, Length: 38932, dtype: object"
      ]
     },
     "execution_count": 32,
     "metadata": {},
     "output_type": "execute_result"
    }
   ],
   "source": [
    "X"
   ]
  },
  {
   "cell_type": "code",
   "execution_count": 33,
   "id": "9e5f0372-e9f0-4ffd-8fd3-3f7efc7d6e05",
   "metadata": {},
   "outputs": [],
   "source": [
    "from sklearn.model_selection import train_test_split\n",
    "X_train,X_test,y_train,y_test=train_test_split(X,y,test_size=0.2,stratify=y,random_state=2)   #stratify tells the train_test_splt that, it wants equal proportion of the two classes both in training and test data"
   ]
  },
  {
   "cell_type": "code",
   "execution_count": 34,
   "id": "10d41744-376b-4bba-893f-d1d102c80547",
   "metadata": {},
   "outputs": [],
   "source": [
    "# Lets perform Feature Extraction i.e converting the dataset to numerical vectors"
   ]
  },
  {
   "cell_type": "code",
   "execution_count": 35,
   "id": "70d53c8d-a2b2-4adc-a118-183a9fd0e119",
   "metadata": {},
   "outputs": [],
   "source": [
    "from sklearn.feature_extraction.text import TfidfVectorizer\n",
    "from sklearn.linear_model import LogisticRegression\n",
    "\n",
    "tvec = TfidfVectorizer()\n",
    "clf = LogisticRegression(solver = \"lbfgs\")\n",
    "\n",
    "from sklearn.pipeline import Pipeline"
   ]
  },
  {
   "cell_type": "code",
   "execution_count": 36,
   "id": "540b1491-5d20-4efb-87a5-925871074cc3",
   "metadata": {},
   "outputs": [
    {
     "name": "stderr",
     "output_type": "stream",
     "text": [
      "C:\\Users\\Lenovo\\AppData\\Local\\Programs\\Python\\Python310\\lib\\site-packages\\sklearn\\linear_model\\_logistic.py:460: ConvergenceWarning: lbfgs failed to converge (status=1):\n",
      "STOP: TOTAL NO. of ITERATIONS REACHED LIMIT.\n",
      "\n",
      "Increase the number of iterations (max_iter) or scale the data as shown in:\n",
      "    https://scikit-learn.org/stable/modules/preprocessing.html\n",
      "Please also refer to the documentation for alternative solver options:\n",
      "    https://scikit-learn.org/stable/modules/linear_model.html#logistic-regression\n",
      "  n_iter_i = _check_optimize_result(\n"
     ]
    },
    {
     "data": {
      "text/plain": [
       "array([[4995,  593],\n",
       "       [ 310, 1889]], dtype=int64)"
      ]
     },
     "execution_count": 36,
     "metadata": {},
     "output_type": "execute_result"
    }
   ],
   "source": [
    "model = Pipeline([('vectorizer',tvec),('classifier',clf)])\n",
    "\n",
    "model.fit(X_train, y_train)\n",
    "\n",
    "\n",
    "from sklearn.metrics import confusion_matrix\n",
    "\n",
    "predictions = model.predict(X_test)\n",
    "\n",
    "confusion_matrix(predictions, y_test)"
   ]
  },
  {
   "cell_type": "code",
   "execution_count": 37,
   "id": "297f06ac-4c31-4baa-97d8-9e7049da9a98",
   "metadata": {},
   "outputs": [
    {
     "name": "stdout",
     "output_type": "stream",
     "text": [
      "Accuracy :  0.8840374983947605\n",
      "Precision :  0.8905967888561083\n",
      "Recall :  0.8840374983947605\n"
     ]
    }
   ],
   "source": [
    "from sklearn.metrics import accuracy_score, precision_score, recall_score\n",
    "\n",
    "print(\"Accuracy : \", accuracy_score(predictions, y_test))\n",
    "print(\"Precision : \", precision_score(predictions, y_test, average = 'weighted'))\n",
    "print(\"Recall : \", recall_score(predictions, y_test, average = 'weighted'))"
   ]
  },
  {
   "cell_type": "code",
   "execution_count": 38,
   "id": "83168076-00c8-42e7-891c-aad3c10c6ac5",
   "metadata": {},
   "outputs": [],
   "source": [
    "# The above model is giving a good accuracy score of 88%"
   ]
  },
  {
   "cell_type": "markdown",
   "id": "2b7eaf9a-3453-4db8-9164-80b981883894",
   "metadata": {},
   "source": [
    "#### Model Evaluation"
   ]
  },
  {
   "cell_type": "code",
   "execution_count": 39,
   "id": "749c906d-b92c-4f34-bcaf-db820302fb99",
   "metadata": {},
   "outputs": [],
   "source": [
    "# Lets check the sentiments for new unknown words"
   ]
  },
  {
   "cell_type": "code",
   "execution_count": 40,
   "id": "8f12a346-46db-4a7c-8719-810acb7aeef5",
   "metadata": {},
   "outputs": [
    {
     "name": "stdout",
     "output_type": "stream",
     "text": [
      "['not happy']\n"
     ]
    }
   ],
   "source": [
    "Review1 = [\"Rooms were not cleaned properly\"]\n",
    "result = model.predict(Review1)\n",
    "\n",
    "print(result)"
   ]
  },
  {
   "cell_type": "code",
   "execution_count": 41,
   "id": "4a30d10b-8737-436b-a305-b939a826ebb5",
   "metadata": {},
   "outputs": [
    {
     "name": "stdout",
     "output_type": "stream",
     "text": [
      "['not happy']\n"
     ]
    }
   ],
   "source": [
    "Review2 = [\"location of the hotel is too far from airport\"]\n",
    "result = model.predict(Review2)\n",
    "\n",
    "print(result)"
   ]
  },
  {
   "cell_type": "code",
   "execution_count": 42,
   "id": "729527a3-67e7-4c8d-a02b-b17abdd8d4fb",
   "metadata": {},
   "outputs": [
    {
     "name": "stdout",
     "output_type": "stream",
     "text": [
      "['happy']\n"
     ]
    }
   ],
   "source": [
    "Review3 = [\"breakfast offered was delicious\"]\n",
    "result = model.predict(Review3)\n",
    "\n",
    "print(result)"
   ]
  },
  {
   "cell_type": "markdown",
   "id": "53545062-964a-45c1-9838-c749a1f846b2",
   "metadata": {},
   "source": [
    "#### Saving the file"
   ]
  },
  {
   "cell_type": "code",
   "execution_count": 45,
   "id": "cb7c26b8-0553-444d-9706-3c06d1fb00d7",
   "metadata": {},
   "outputs": [],
   "source": [
    "import pickle"
   ]
  },
  {
   "cell_type": "code",
   "execution_count": 47,
   "id": "d146237c-bb90-4683-88a5-863a709bd783",
   "metadata": {},
   "outputs": [],
   "source": [
    "with open('classifier.pkl','wb') as file:\n",
    "    pickle.dump(model,file)"
   ]
  },
  {
   "cell_type": "code",
   "execution_count": null,
   "id": "24978b08-25ff-49ae-b5bb-ab894e525ea4",
   "metadata": {},
   "outputs": [],
   "source": []
  }
 ],
 "metadata": {
  "kernelspec": {
   "display_name": "Python 3 (ipykernel)",
   "language": "python",
   "name": "python3"
  },
  "language_info": {
   "codemirror_mode": {
    "name": "ipython",
    "version": 3
   },
   "file_extension": ".py",
   "mimetype": "text/x-python",
   "name": "python",
   "nbconvert_exporter": "python",
   "pygments_lexer": "ipython3",
   "version": "3.10.8"
  }
 },
 "nbformat": 4,
 "nbformat_minor": 5
}
